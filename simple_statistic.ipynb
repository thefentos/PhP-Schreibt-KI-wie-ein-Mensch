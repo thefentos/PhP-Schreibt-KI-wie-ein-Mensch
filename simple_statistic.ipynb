{
 "cells": [
  {
   "cell_type": "code",
   "execution_count": 1,
   "metadata": {},
   "outputs": [
    {
     "name": "stderr",
     "output_type": "stream",
     "text": [
      "/Users/felixkempermann/Library/Python/3.9/lib/python/site-packages/urllib3/__init__.py:35: NotOpenSSLWarning: urllib3 v2 only supports OpenSSL 1.1.1+, currently the 'ssl' module is compiled with 'LibreSSL 2.8.3'. See: https://github.com/urllib3/urllib3/issues/3020\n",
      "  warnings.warn(\n"
     ]
    }
   ],
   "source": [
    "import pandas as pd\n",
    "from pathlib import Path\n",
    "import spacy\n",
    "import matplotlib.pyplot as plt"
   ]
  },
  {
   "cell_type": "code",
   "execution_count": 2,
   "metadata": {},
   "outputs": [],
   "source": [
    "Path('exports').mkdir(exist_ok=True)\n",
    "nlp = spacy.load('de_core_news_sm')"
   ]
  },
  {
   "cell_type": "code",
   "execution_count": 3,
   "metadata": {},
   "outputs": [],
   "source": [
    "def add_stop_list(df):\n",
    "    if 'stop_words' not in df.columns:\n",
    "        df['stop_words'] = False\n",
    "    for _, row in df['words'].items():\n",
    "        doc = nlp(row)\n",
    "        for token in doc:\n",
    "            if token.is_stop:\n",
    "                df.at[_, 'stop_words'] = True"
   ]
  },
  {
   "cell_type": "code",
   "execution_count": 4,
   "metadata": {},
   "outputs": [],
   "source": [
    "def first_five_nouns(df):\n",
    "    counter = 0\n",
    "    exp = []\n",
    "    for _, row in df['words'].items():\n",
    "        if counter >= 7:\n",
    "            break\n",
    "\n",
    "        doc = nlp(row)\n",
    "        for token in doc:\n",
    "            if token.pos_ == 'NOUN':\n",
    "                exp.append(token.text)\n",
    "                counter += 1\n",
    "                if counter >= 7:\n",
    "                    break\n",
    "    return exp"
   ]
  },
  {
   "cell_type": "code",
   "execution_count": 5,
   "metadata": {},
   "outputs": [
    {
     "name": "stdout",
     "output_type": "stream",
     "text": [
      "['Hund', 'Haus', 'Flugzeug', 'Schiff', 'Bus', 'Auto', 'Fahrrad']\n"
     ]
    },
    {
     "data": {
      "text/html": [
       "<div>\n",
       "<style scoped>\n",
       "    .dataframe tbody tr th:only-of-type {\n",
       "        vertical-align: middle;\n",
       "    }\n",
       "\n",
       "    .dataframe tbody tr th {\n",
       "        vertical-align: top;\n",
       "    }\n",
       "\n",
       "    .dataframe thead th {\n",
       "        text-align: right;\n",
       "    }\n",
       "</style>\n",
       "<table border=\"1\" class=\"dataframe\">\n",
       "  <thead>\n",
       "    <tr style=\"text-align: right;\">\n",
       "      <th></th>\n",
       "      <th>words</th>\n",
       "      <th>amount</th>\n",
       "      <th>stop_words</th>\n",
       "    </tr>\n",
       "  </thead>\n",
       "  <tbody>\n",
       "    <tr>\n",
       "      <th>0</th>\n",
       "      <td>Hund</td>\n",
       "      <td>1</td>\n",
       "      <td>False</td>\n",
       "    </tr>\n",
       "    <tr>\n",
       "      <th>1</th>\n",
       "      <td>gehen</td>\n",
       "      <td>2</td>\n",
       "      <td>True</td>\n",
       "    </tr>\n",
       "    <tr>\n",
       "      <th>2</th>\n",
       "      <td>schön</td>\n",
       "      <td>3</td>\n",
       "      <td>False</td>\n",
       "    </tr>\n",
       "    <tr>\n",
       "      <th>3</th>\n",
       "      <td>Haus</td>\n",
       "      <td>4</td>\n",
       "      <td>False</td>\n",
       "    </tr>\n",
       "    <tr>\n",
       "      <th>4</th>\n",
       "      <td>sein</td>\n",
       "      <td>5</td>\n",
       "      <td>True</td>\n",
       "    </tr>\n",
       "  </tbody>\n",
       "</table>\n",
       "</div>"
      ],
      "text/plain": [
       "   words  amount  stop_words\n",
       "0   Hund       1       False\n",
       "1  gehen       2        True\n",
       "2  schön       3       False\n",
       "3   Haus       4       False\n",
       "4   sein       5        True"
      ]
     },
     "execution_count": 5,
     "metadata": {},
     "output_type": "execute_result"
    }
   ],
   "source": [
    "test_df = pd.DataFrame({'words': ['Hund', 'gehen', 'schön', 'Haus', 'sein', 'Sucht', 'Flugzeug', 'Schiff', 'spielen', 'Bus', 'Auto', 'Fahrrad', 'Motorrad', 'Zug', 'U-Bahn'],\n",
    "                        'amount': [1, 2, 3, 4, 5, 6, 7, 8, 9, 10, 11, 12, 13, 14, 15]})\n",
    "\n",
    "print(first_five_nouns(test_df))\n",
    "add_stop_list(test_df)\n",
    "test_df.head(5)"
   ]
  },
  {
   "cell_type": "code",
   "execution_count": 6,
   "metadata": {},
   "outputs": [],
   "source": [
    "gpt4o_df        = pd.read_csv('exports/GPT4o-2025-01-06_15:01:12.csv')      # GPT4o\n",
    "gpt35t_df       = pd.read_csv('exports/GPT35t-2025-01-06_15:01:12.csv')     # GPT35t \n",
    "perplexity_df   = pd.read_csv('exports/PERPLEXITY-2025-01-06_15:01:12.csv') # PERPLEXITY\n",
    "claude_df       = pd.read_csv('exports/CLAUDE-2025-01-06_15:01:12.csv')     # CLAUDE\n",
    "human_df        = pd.read_csv('exports/HUMAN-2025-01-06_15:01:12.csv')      # HUMAN"
   ]
  },
  {
   "cell_type": "code",
   "execution_count": 13,
   "metadata": {},
   "outputs": [
    {
     "data": {
      "text/plain": [
       "<pandas.core.indexing._AtIndexer at 0x135b9f9a0>"
      ]
     },
     "execution_count": 13,
     "metadata": {},
     "output_type": "execute_result"
    }
   ],
   "source": [
    "def calculate_average_word_length(df, word_column='words', amount_column='amount'):\n",
    "    # Länge der Wörter berechnen\n",
    "    df[word_column] = df[word_column].astype(str)\n",
    "    df['word_length'] = df[word_column].apply(len)\n",
    "    \n",
    "    # Gewichtete Summe der Wortlängen berechnen\n",
    "    weighted_sum = (df['word_length'] * df[amount_column]).sum()\n",
    "    \n",
    "    # Gesamtsumme der Häufigkeiten berechnen\n",
    "    total_amount = df[amount_column].sum()\n",
    "    \n",
    "    # Durchschnittliche Wortlänge berechnen\n",
    "    average_word_length = weighted_sum / total_amount if total_amount > 0 else 0\n",
    "    \n",
    "    return average_word_length\n",
    "\n",
    "gpt4o_df.at"
   ]
  },
  {
   "cell_type": "code",
   "execution_count": 14,
   "metadata": {},
   "outputs": [],
   "source": [
    "simple_statistics = pd.DataFrame({\n",
    "    'index':                   [],\n",
    "    'unique_words':            [], \n",
    "    'words_sum':               [],\n",
    "    'normalised_unique_words': [],\n",
    "    'absatz':                  [],\n",
    "    'avg_absatz_length':       [],\n",
    "    'avg_word_length':         [],\n",
    "    '5most_common_words':      [],\n",
    "    '5most_common_nouns':      []\n",
    "})"
   ]
  },
  {
   "cell_type": "code",
   "execution_count": 15,
   "metadata": {},
   "outputs": [],
   "source": [
    "gpt4o_stats         = [\n",
    "    'GPT4o',\n",
    "    len(gpt4o_df),\n",
    "    gpt4o_df['amount'].sum(),\n",
    "    len(gpt4o_df) / gpt4o_df['amount'].sum() * 10000,\n",
    "    gpt4o_df.loc[gpt4o_df['words'] == '\\n', 'amount'].sum() + gpt4o_df.loc[gpt4o_df['words'] == '\\n\\n', 'amount'].sum(),\n",
    "    gpt4o_df['amount'].sum() / (gpt4o_df.loc[gpt4o_df['words'] == '\\n', 'amount'].sum() + gpt4o_df.loc[gpt4o_df['words'] == '\\n\\n', 'amount'].sum()),\n",
    "    calculate_average_word_length(gpt4o_df),\n",
    "    gpt4o_df['words'].head(8).to_list(),\n",
    "    first_five_nouns(gpt4o_df)\n",
    "]"
   ]
  },
  {
   "cell_type": "code",
   "execution_count": 16,
   "metadata": {},
   "outputs": [
    {
     "name": "stdout",
     "output_type": "stream",
     "text": [
      "['GPT4o', 2054, np.int64(16386), np.float64(1253.5090931282803), np.int64(221), np.float64(74.1447963800905), np.float64(5.263700720126938), ['--', 'der', 'in', 'ein', 'und', 'sein', '\\n\\n', 'mit'], ['Spiel', 'Minute', 'Mannschaft', 'Verlängerung', 'Tor', 'Fußball', 'Team']]\n"
     ]
    }
   ],
   "source": [
    "print(gpt4o_stats)"
   ]
  },
  {
   "cell_type": "code",
   "execution_count": 17,
   "metadata": {},
   "outputs": [],
   "source": [
    "gpt35t_stats        = [\n",
    "    'GPT35t',\n",
    "    len(gpt35t_df),\n",
    "    gpt35t_df['amount'].sum(),\n",
    "    len(gpt35t_df) / gpt35t_df['amount'].sum() * 10000,\n",
    "    gpt35t_df.loc[gpt35t_df['words'] == '\\n', 'amount'].sum() + gpt35t_df.loc[gpt35t_df['words'] == '\\n\\n', 'amount'].sum(),\n",
    "    gpt35t_df['amount'].sum() / (gpt35t_df.loc[gpt35t_df['words'] == '\\n', 'amount'].sum() + gpt35t_df.loc[gpt35t_df['words'] == '\\n\\n', 'amount'].sum()),\n",
    "    calculate_average_word_length(gpt35t_df),\n",
    "    gpt35t_df['words'].head(8).to_list(),\n",
    "    first_five_nouns(gpt35t_df)\n",
    "]"
   ]
  },
  {
   "cell_type": "code",
   "execution_count": 18,
   "metadata": {},
   "outputs": [],
   "source": [
    "perplexity_stats    = [\n",
    "    'PERPLEXITY',\n",
    "    len(perplexity_df),\n",
    "    perplexity_df['amount'].sum(),\n",
    "    len(perplexity_df) / perplexity_df['amount'].sum() * 10000,\n",
    "    perplexity_df.loc[perplexity_df['words'] == '\\n', 'amount'].sum() + perplexity_df.loc[perplexity_df['words'] == '\\n\\n', 'amount'].sum(),\n",
    "    perplexity_df['amount'].sum() / (perplexity_df.loc[perplexity_df['words'] == '\\n', 'amount'].sum() + perplexity_df.loc[perplexity_df['words'] == '\\n\\n', 'amount'].sum()),\n",
    "    calculate_average_word_length(perplexity_df),\n",
    "    perplexity_df['words'].head(8).to_list(),\n",
    "    first_five_nouns(perplexity_df)\n",
    "]"
   ]
  },
  {
   "cell_type": "code",
   "execution_count": 19,
   "metadata": {},
   "outputs": [],
   "source": [
    "claude_stats        = [\n",
    "    'CLAUDE',\n",
    "    len(claude_df),\n",
    "    claude_df['amount'].sum(),\n",
    "    len(claude_df) / claude_df['amount'].sum() * 10000,\n",
    "    claude_df.loc[claude_df['words'] == '\\n', 'amount'].sum() + claude_df.loc[claude_df['words'] == '\\n\\n', 'amount'].sum(),\n",
    "    claude_df['amount'].sum() / (claude_df.loc[claude_df['words'] == '\\n', 'amount'].sum() + claude_df.loc[claude_df['words'] == '\\n\\n', 'amount'].sum()),\n",
    "    calculate_average_word_length(claude_df),\n",
    "    claude_df['words'].head(8).to_list(),\n",
    "    first_five_nouns(claude_df)\n",
    "]"
   ]
  },
  {
   "cell_type": "code",
   "execution_count": 20,
   "metadata": {},
   "outputs": [],
   "source": [
    "human_stats         = [\n",
    "    'HUMAN',\n",
    "    len(human_df),\n",
    "    human_df['amount'].sum(),\n",
    "    len(human_df) / human_df['amount'].sum() * 10000,\n",
    "    human_df.loc[human_df['words'] == '\\n', 'amount'].sum() + human_df.loc[human_df['words'] == '\\n\\n', 'amount'].sum(),\n",
    "    human_df['amount'].sum() / (human_df.loc[human_df['words'] == '\\n', 'amount'].sum() + human_df.loc[human_df['words'] == '\\n\\n', 'amount'].sum()),\n",
    "    calculate_average_word_length(human_df),\n",
    "    human_df['words'].head(8).to_list(),\n",
    "    first_five_nouns(human_df)\n",
    "]"
   ]
  },
  {
   "cell_type": "code",
   "execution_count": 21,
   "metadata": {},
   "outputs": [],
   "source": [
    "simple_statistics = pd.concat([simple_statistics, pd.DataFrame([gpt4o_stats, gpt35t_stats, perplexity_stats, claude_stats, human_stats], columns=simple_statistics.columns)], ignore_index=True)    "
   ]
  },
  {
   "cell_type": "code",
   "execution_count": 22,
   "metadata": {},
   "outputs": [
    {
     "data": {
      "text/html": [
       "<div>\n",
       "<style scoped>\n",
       "    .dataframe tbody tr th:only-of-type {\n",
       "        vertical-align: middle;\n",
       "    }\n",
       "\n",
       "    .dataframe tbody tr th {\n",
       "        vertical-align: top;\n",
       "    }\n",
       "\n",
       "    .dataframe thead th {\n",
       "        text-align: right;\n",
       "    }\n",
       "</style>\n",
       "<table border=\"1\" class=\"dataframe\">\n",
       "  <thead>\n",
       "    <tr style=\"text-align: right;\">\n",
       "      <th></th>\n",
       "      <th>index</th>\n",
       "      <th>unique_words</th>\n",
       "      <th>words_sum</th>\n",
       "      <th>normalised_unique_words</th>\n",
       "      <th>absatz</th>\n",
       "      <th>avg_absatz_length</th>\n",
       "      <th>avg_word_length</th>\n",
       "      <th>5most_common_words</th>\n",
       "      <th>5most_common_nouns</th>\n",
       "    </tr>\n",
       "  </thead>\n",
       "  <tbody>\n",
       "    <tr>\n",
       "      <th>0</th>\n",
       "      <td>GPT4o</td>\n",
       "      <td>2054.0</td>\n",
       "      <td>16386.0</td>\n",
       "      <td>1253.509093</td>\n",
       "      <td>221.0</td>\n",
       "      <td>74.144796</td>\n",
       "      <td>5.263701</td>\n",
       "      <td>[--, der, in, ein, und, sein, \\n\\n, mit]</td>\n",
       "      <td>[Spiel, Minute, Mannschaft, Verlängerung, Tor,...</td>\n",
       "    </tr>\n",
       "    <tr>\n",
       "      <th>1</th>\n",
       "      <td>GPT35t</td>\n",
       "      <td>1351.0</td>\n",
       "      <td>11389.0</td>\n",
       "      <td>1186.232329</td>\n",
       "      <td>155.0</td>\n",
       "      <td>73.477419</td>\n",
       "      <td>5.164633</td>\n",
       "      <td>[der, --, und, in, ein, sein, deutsch, zu]</td>\n",
       "      <td>[Spieler, Spiel, Mannschaft, Moment, Sieg, Fan...</td>\n",
       "    </tr>\n",
       "    <tr>\n",
       "      <th>2</th>\n",
       "      <td>PERPLEXITY</td>\n",
       "      <td>1323.0</td>\n",
       "      <td>17751.0</td>\n",
       "      <td>745.310123</td>\n",
       "      <td>266.0</td>\n",
       "      <td>66.733083</td>\n",
       "      <td>5.147710</td>\n",
       "      <td>[der, --, in, und, ein, sein, \\n\\n, deutsch]</td>\n",
       "      <td>[Mannschaft, Minute, Spiel, Tor, Sieg, Verläng...</td>\n",
       "    </tr>\n",
       "    <tr>\n",
       "      <th>3</th>\n",
       "      <td>CLAUDE</td>\n",
       "      <td>1038.0</td>\n",
       "      <td>10714.0</td>\n",
       "      <td>968.825835</td>\n",
       "      <td>187.0</td>\n",
       "      <td>57.294118</td>\n",
       "      <td>5.343102</td>\n",
       "      <td>[der, --, ein, in, \\n\\n, nach, zu, deutsch]</td>\n",
       "      <td>[Mannschaft, Minute, Treffer, Verlängerung, Lö...</td>\n",
       "    </tr>\n",
       "    <tr>\n",
       "      <th>4</th>\n",
       "      <td>HUMAN</td>\n",
       "      <td>3172.0</td>\n",
       "      <td>19002.0</td>\n",
       "      <td>1669.297969</td>\n",
       "      <td>274.0</td>\n",
       "      <td>69.350365</td>\n",
       "      <td>4.884591</td>\n",
       "      <td>[--, der, in, ein, und, sein, zu, haben]</td>\n",
       "      <td>[Minute, Tor, Spiel, Ball, Verlängerung, Manns...</td>\n",
       "    </tr>\n",
       "  </tbody>\n",
       "</table>\n",
       "</div>"
      ],
      "text/plain": [
       "        index  unique_words  words_sum  normalised_unique_words  absatz  \\\n",
       "0       GPT4o        2054.0    16386.0              1253.509093   221.0   \n",
       "1      GPT35t        1351.0    11389.0              1186.232329   155.0   \n",
       "2  PERPLEXITY        1323.0    17751.0               745.310123   266.0   \n",
       "3      CLAUDE        1038.0    10714.0               968.825835   187.0   \n",
       "4       HUMAN        3172.0    19002.0              1669.297969   274.0   \n",
       "\n",
       "   avg_absatz_length  avg_word_length  \\\n",
       "0          74.144796         5.263701   \n",
       "1          73.477419         5.164633   \n",
       "2          66.733083         5.147710   \n",
       "3          57.294118         5.343102   \n",
       "4          69.350365         4.884591   \n",
       "\n",
       "                             5most_common_words  \\\n",
       "0      [--, der, in, ein, und, sein, \\n\\n, mit]   \n",
       "1    [der, --, und, in, ein, sein, deutsch, zu]   \n",
       "2  [der, --, in, und, ein, sein, \\n\\n, deutsch]   \n",
       "3   [der, --, ein, in, \\n\\n, nach, zu, deutsch]   \n",
       "4      [--, der, in, ein, und, sein, zu, haben]   \n",
       "\n",
       "                                  5most_common_nouns  \n",
       "0  [Spiel, Minute, Mannschaft, Verlängerung, Tor,...  \n",
       "1  [Spieler, Spiel, Mannschaft, Moment, Sieg, Fan...  \n",
       "2  [Mannschaft, Minute, Spiel, Tor, Sieg, Verläng...  \n",
       "3  [Mannschaft, Minute, Treffer, Verlängerung, Lö...  \n",
       "4  [Minute, Tor, Spiel, Ball, Verlängerung, Manns...  "
      ]
     },
     "execution_count": 22,
     "metadata": {},
     "output_type": "execute_result"
    }
   ],
   "source": [
    "simple_statistics.to_csv('exports/simple_statistics_5.csv', index=False)\n",
    "simple_statistics.head()"
   ]
  },
  {
   "cell_type": "markdown",
   "metadata": {},
   "source": []
  },
  {
   "cell_type": "code",
   "execution_count": 193,
   "metadata": {},
   "outputs": [],
   "source": [
    "add_stop_list(gpt4o_df)\n",
    "add_stop_list(gpt35t_df)\n",
    "add_stop_list(perplexity_df)\n",
    "add_stop_list(claude_df)\n",
    "add_stop_list(human_df)"
   ]
  },
  {
   "cell_type": "code",
   "execution_count": null,
   "metadata": {},
   "outputs": [],
   "source": [
    "gpt4o_df.head()"
   ]
  },
  {
   "cell_type": "code",
   "execution_count": null,
   "metadata": {},
   "outputs": [],
   "source": [
    "gpt35t_df.head()"
   ]
  },
  {
   "cell_type": "code",
   "execution_count": null,
   "metadata": {},
   "outputs": [],
   "source": [
    "perplexity_df.head()"
   ]
  },
  {
   "cell_type": "code",
   "execution_count": null,
   "metadata": {},
   "outputs": [],
   "source": [
    "claude_df.head()"
   ]
  },
  {
   "cell_type": "code",
   "execution_count": null,
   "metadata": {},
   "outputs": [],
   "source": [
    "human_df.head()"
   ]
  },
  {
   "cell_type": "code",
   "execution_count": 211,
   "metadata": {},
   "outputs": [
    {
     "data": {
      "image/png": "[encoded data removed]",
      "text/plain": [
       "<Figure size 1200x600 with 1 Axes>"
      ]
     },
     "metadata": {},
     "output_type": "display_data"
    }
   ],
   "source": [
    "window_size = 100  # Fenstergröße für den gleitenden Durchschnitt\n",
    "hum_mean = human_df['stop_words'].rolling(window=window_size).mean()\n",
    "g4o_mean = gpt4o_df['stop_words'].rolling(window=window_size).mean()\n",
    "g3t_mean = gpt35t_df['stop_words'].rolling(window=window_size).mean()\n",
    "per_mean = perplexity_df['stop_words'].rolling(window=window_size).mean()\n",
    "cla_mean = claude_df['stop_words'].rolling(window=window_size).mean()\n",
    "\n",
    "# Plot erstellen\n",
    "plt.figure(figsize=(12, 6))\n",
    "plt.plot(cla_mean, label=f'Claude', color='blue')\n",
    "plt.plot(hum_mean, label=f'Human', color='green')\n",
    "plt.plot(g4o_mean, label=f'GPT4o', color='red')\n",
    "plt.plot(g3t_mean, label=f'GPT35t', color='purple')\n",
    "plt.plot(per_mean, label=f'Perplexity', color='orange')\n",
    "plt.xlabel('Zeilenindex')\n",
    "plt.ylabel('Anteil True-Werte')\n",
    "plt.title('Verteilung der True-Werte über die Zeilen (Gleitender Durchschnitt)')\n",
    "plt.axhline(y=0.5, color='red', linestyle='--', alpha=0.7, label='50% Linie')  # Optional, um 50% als Referenz zu markieren\n",
    "plt.legend()\n",
    "plt.grid(alpha=0.5)\n",
    "plt.show()"
   ]
  }
 ],
 "metadata": {
  "kernelspec": {
   "display_name": "Python 3",
   "language": "python",
   "name": "python3"
  },
  "language_info": {
   "codemirror_mode": {
    "name": "ipython",
    "version": 3
   },
   "file_extension": ".py",
   "mimetype": "text/x-python",
   "name": "python",
   "nbconvert_exporter": "python",
   "pygments_lexer": "ipython3",
   "version": "3.9.6"
  }
 },
 "nbformat": 4,
 "nbformat_minor": 2
}
